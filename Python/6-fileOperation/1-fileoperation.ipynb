{
 "cells": [
  {
   "cell_type": "code",
   "execution_count": 8,
   "metadata": {},
   "outputs": [
    {
     "name": "stdout",
     "output_type": "stream",
     "text": [
      "How  are you Sir ! Chacha\n",
      "Ravendra Singh\n",
      "Good Morning\n"
     ]
    }
   ],
   "source": [
    "## Read a whole file : \n",
    "with open('example.txt' , 'r') as file:\n",
    "    content = file.read()\n",
    "    print(content) "
   ]
  },
  {
   "cell_type": "code",
   "execution_count": 7,
   "metadata": {},
   "outputs": [
    {
     "name": "stdout",
     "output_type": "stream",
     "text": [
      "How  are you Sir ! Chacha\n",
      "Ravendra Singh\n",
      "Good Morning\n"
     ]
    }
   ],
   "source": [
    "## Read afile line by line\n",
    "with open('example.txt' , 'r') as file:\n",
    "    for line in file: \n",
    "        print(line.strip()) # Strip : removes the newline character"
   ]
  },
  {
   "cell_type": "code",
   "execution_count": 9,
   "metadata": {},
   "outputs": [],
   "source": [
    "# Wirting a file(Overwriting)\n",
    "with open('example.txt' ,'w') as file : \n",
    "    file.write(\"Hello World!\\n\")\n",
    "    file.write(\"This is a new line.\")"
   ]
  },
  {
   "cell_type": "code",
   "execution_count": 11,
   "metadata": {},
   "outputs": [],
   "source": [
    "# Write a wfile without overwriting : \n",
    "with open(\"example.txt\" , 'a') as file : \n",
    "    file.write(\"Append operation taking place.\\n\")"
   ]
  },
  {
   "cell_type": "code",
   "execution_count": 12,
   "metadata": {},
   "outputs": [],
   "source": [
    "# Write a list of lines to a file : \n",
    "lines = ['First Line\\n'  'Second line\\n' , 'Third line\\n' ]\n",
    "with open('example.txt' , 'a') as file : \n",
    "    file.writelines(lines)"
   ]
  },
  {
   "cell_type": "code",
   "execution_count": 13,
   "metadata": {},
   "outputs": [],
   "source": [
    "# Binary Files : \n",
    "data = b'\\x00\\x01\\x02\\x03\\x04' \n",
    "with open('example.bin' , 'wb')as file: \n",
    "    file.write(data)"
   ]
  },
  {
   "cell_type": "code",
   "execution_count": 15,
   "metadata": {},
   "outputs": [
    {
     "name": "stdout",
     "output_type": "stream",
     "text": [
      "b'\\x00\\x01\\x02\\x03\\x04'\n"
     ]
    }
   ],
   "source": [
    "# Reading binary files : \n",
    "with open('example.bin' , 'rb') as file : \n",
    "    content = file.read()\n",
    "    print(content)"
   ]
  },
  {
   "cell_type": "code",
   "execution_count": 16,
   "metadata": {},
   "outputs": [],
   "source": [
    "# read the content from a source text file and write to a destination  text file : \n",
    "# copying a text file : \n",
    "with open ('example.txt' , 'r') as source_file :\n",
    "    content = source_file.read() \n",
    "\n",
    "with open('destination.txt' , 'w') as destination_file:\n",
    "    destination_file.write(content)"
   ]
  },
  {
   "cell_type": "code",
   "execution_count": 17,
   "metadata": {},
   "outputs": [
    {
     "name": "stdout",
     "output_type": "stream",
     "text": [
      "Lines : 5 , Words : 19 ,Characters:  127\n"
     ]
    }
   ],
   "source": [
    "# Read a txt file and count the number of lines , words  and char\n",
    "# Counting lines , words and chars in a text file \n",
    "def count_text_file(file_path):\n",
    "    with open(file_path , 'r') as file : \n",
    "        lines = file.readlines() \n",
    "        lines_count = len(lines)\n",
    "        word_count = sum(len(line.split()) for line in lines)\n",
    "        char_count = sum(len(line) for line in lines)\n",
    "        \n",
    "    return lines_count ,  word_count , char_count\n",
    "\n",
    "file_path = 'example.txt'\n",
    "lines , words , characters = count_text_file(file_path)\n",
    "print(f\"Lines : {lines} , Words : {words} ,Characters:  {characters}\")"
   ]
  },
  {
   "cell_type": "code",
   "execution_count": 18,
   "metadata": {},
   "outputs": [
    {
     "name": "stdout",
     "output_type": "stream",
     "text": [
      "Hello World\n",
      "ravendra singh\n"
     ]
    }
   ],
   "source": [
    "# Writing and thten reading a file : \n",
    "with open('example.txt' , 'w+') as file : \n",
    "    file.write('Hello World\\n')\n",
    "    file.write(\"ravendra singh\")\n",
    "    \n",
    "    # Move the file curson  to the begining :\n",
    "    file.seek(0)\n",
    "    \n",
    "    #Read file : \n",
    "    content = file.read()\n",
    "    print(content)"
   ]
  },
  {
   "cell_type": "code",
   "execution_count": 21,
   "metadata": {},
   "outputs": [
    {
     "name": "stdout",
     "output_type": "stream",
     "text": [
      "Directory 'package' created\n"
     ]
    }
   ],
   "source": [
    "## Create a new directory \n",
    "import os\n",
    "new_directory = \"package\"\n",
    "os.mkdir(new_directory)\n",
    "\n",
    "print(f\"Directory '{new_directory}' created\")\n"
   ]
  },
  {
   "cell_type": "code",
   "execution_count": 22,
   "metadata": {},
   "outputs": [
    {
     "name": "stdout",
     "output_type": "stream",
     "text": [
      "['1-fileoperation.ipynb', 'destination.txt', 'example.bin', 'example.txt', 'package']\n"
     ]
    }
   ],
   "source": [
    "# Listing files and directories : \n",
    "items = os.listdir('.')\n",
    "print(items)"
   ]
  },
  {
   "cell_type": "code",
   "execution_count": 23,
   "metadata": {},
   "outputs": [
    {
     "name": "stdout",
     "output_type": "stream",
     "text": [
      "folder\\file.txt\n"
     ]
    }
   ],
   "source": [
    "## Joining Paths :\n",
    "dir_name = \"folder\"\n",
    "file_name = \"file.txt\"\n",
    "full_path = os.path.join(dir_name , file_name)\n",
    "\n",
    "print(full_path)"
   ]
  },
  {
   "cell_type": "code",
   "execution_count": 24,
   "metadata": {},
   "outputs": [
    {
     "name": "stdout",
     "output_type": "stream",
     "text": [
      "c:\\Users\\91952\\Desktop\\Python\\6-fileOperation\\folder\\file.txt\n"
     ]
    }
   ],
   "source": [
    "## Joining Paths :\n",
    "dir_name = \"folder\"\n",
    "file_name = \"file.txt\"\n",
    "full_path = os.path.join(os.getcwd() , dir_name , file_name)\n",
    "\n",
    "print(full_path)"
   ]
  },
  {
   "cell_type": "code",
   "execution_count": 25,
   "metadata": {},
   "outputs": [
    {
     "name": "stdout",
     "output_type": "stream",
     "text": [
      "The path 'example.txt exists.\n"
     ]
    }
   ],
   "source": [
    "path  = 'example.txt'\n",
    "if os.path.exists(path): \n",
    "    print(f\"The path '{path} exists.\")\n",
    "else:\n",
    "    print(f\"The path '{path} does not exists.\")"
   ]
  },
  {
   "cell_type": "code",
   "execution_count": 26,
   "metadata": {},
   "outputs": [
    {
     "name": "stdout",
     "output_type": "stream",
     "text": [
      "The path 'example.txt is file.\n"
     ]
    }
   ],
   "source": [
    "# Checking of a path is file or directory : \n",
    "path  = 'example.txt'\n",
    "if os.path.isfile(path): \n",
    "    print(f\"The path '{path} is file.\")\n",
    "elif os.path.isdir(path): \n",
    "    print(f\"The path '{path} is folder.\")\n",
    "else: \n",
    "    print(f\"The path '{path} is neither a file nor a folder.\")"
   ]
  },
  {
   "cell_type": "code",
   "execution_count": 27,
   "metadata": {},
   "outputs": [
    {
     "name": "stdout",
     "output_type": "stream",
     "text": [
      "c:\\Users\\91952\\Desktop\\Python\\6-fileOperation\\example.txt\n"
     ]
    }
   ],
   "source": [
    "# Getting absolute path : \n",
    "relative_path = 'example.txt'\n",
    "abs_path = os.path.abspath(relative_path)\n",
    "print(abs_path)"
   ]
  },
  {
   "cell_type": "code",
   "execution_count": null,
   "metadata": {},
   "outputs": [],
   "source": []
  }
 ],
 "metadata": {
  "kernelspec": {
   "display_name": "Python 3",
   "language": "python",
   "name": "python3"
  },
  "language_info": {
   "codemirror_mode": {
    "name": "ipython",
    "version": 3
   },
   "file_extension": ".py",
   "mimetype": "text/x-python",
   "name": "python",
   "nbconvert_exporter": "python",
   "pygments_lexer": "ipython3",
   "version": "3.10.7"
  }
 },
 "nbformat": 4,
 "nbformat_minor": 2
}
