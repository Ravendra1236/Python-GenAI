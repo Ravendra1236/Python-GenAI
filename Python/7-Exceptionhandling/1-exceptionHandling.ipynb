{
 "cells": [
  {
   "cell_type": "code",
   "execution_count": 1,
   "metadata": {},
   "outputs": [
    {
     "name": "stdout",
     "output_type": "stream",
     "text": [
      "The variable has not been assigned\n"
     ]
    }
   ],
   "source": [
    "# Exception try except block \n",
    "\n",
    "try : \n",
    "    a=b  \n",
    "except : \n",
    "    print(\"The variable has not been assigned\")"
   ]
  },
  {
   "cell_type": "code",
   "execution_count": 2,
   "metadata": {},
   "outputs": [
    {
     "name": "stdout",
     "output_type": "stream",
     "text": [
      "name 'b' is not defined\n"
     ]
    }
   ],
   "source": [
    "try : \n",
    "    a=b  \n",
    "except NameError as ex: \n",
    "    print(ex)"
   ]
  },
  {
   "cell_type": "code",
   "execution_count": 4,
   "metadata": {},
   "outputs": [
    {
     "name": "stdout",
     "output_type": "stream",
     "text": [
      "division by zero\n",
      "Enter the denominator greater than 0.\n"
     ]
    }
   ],
   "source": [
    "try : \n",
    "    result= 1/0 \n",
    "    \n",
    "except ZeroDivisionError as ex :\n",
    "    print(ex)\n",
    "    print(\"Enter the denominator greater than 0.\")"
   ]
  },
  {
   "cell_type": "code",
   "execution_count": 7,
   "metadata": {},
   "outputs": [
    {
     "name": "stdout",
     "output_type": "stream",
     "text": [
      "name 'b' is not defined\n",
      "Main exception class is called.\n"
     ]
    }
   ],
   "source": [
    "# Exception class : all exception classes are derived from it\n",
    "\n",
    "try : \n",
    "    result= 1/2 \n",
    "    a=b\n",
    "    \n",
    "except ZeroDivisionError as ex :\n",
    "    print(ex)\n",
    "    print(\"Enter the denominator greater than 0.\")\n",
    "except Exception as ex1 : \n",
    "    print(ex1)\n",
    "    print(\"Main exception class is called.\")"
   ]
  },
  {
   "cell_type": "code",
   "execution_count": 11,
   "metadata": {},
   "outputs": [],
   "source": [
    "try : \n",
    "    num = int(input('Enter a number'))\n",
    "    result = 1/num \n",
    "except ValueError : \n",
    "    print(\"This is not a valid number\")\n",
    "except ZeroDivisionError : \n",
    "    print(\"Enter the denominator greater than 0.\")  \n",
    "except Exception as ex : \n",
    "    print(ex)\n"
   ]
  },
  {
   "cell_type": "code",
   "execution_count": 12,
   "metadata": {},
   "outputs": [
    {
     "name": "stdout",
     "output_type": "stream",
     "text": [
      "The result is 0.043478260869565216\n"
     ]
    }
   ],
   "source": [
    "# try except and else block : \n",
    "try: \n",
    "    num = int(input(\"Enter a number: \"))\n",
    "    result = 1/num \n",
    "except ValueError : \n",
    "    print(\"This is not a valid number\")\n",
    "except ZeroDivisionError : \n",
    "    print(\"Enter the denominator greater than 0.\")  \n",
    "except Exception as ex : \n",
    "    print(ex)\n",
    "else: \n",
    "    print(f\"The result is {result}\")"
   ]
  },
  {
   "cell_type": "code",
   "execution_count": 14,
   "metadata": {},
   "outputs": [
    {
     "name": "stdout",
     "output_type": "stream",
     "text": [
      "Enter the denominator greater than 0.\n",
      "Execution complete.\n"
     ]
    }
   ],
   "source": [
    "## try except els and finally : \n",
    "try: \n",
    "    num = int(input(\"Enter a number: \"))\n",
    "    result = 1/num \n",
    "except ValueError : \n",
    "    print(\"This is not a valid number\")\n",
    "except ZeroDivisionError : \n",
    "    print(\"Enter the denominator greater than 0.\")  \n",
    "except Exception as ex : \n",
    "    print(ex)\n",
    "else: \n",
    "    print(f\"The result is {result}\")\n",
    "finally : \n",
    "    print(\"Execution complete.\")"
   ]
  },
  {
   "cell_type": "code",
   "execution_count": 18,
   "metadata": {},
   "outputs": [
    {
     "name": "stdout",
     "output_type": "stream",
     "text": [
      "name 'b' is not defined\n",
      "File close\n"
     ]
    }
   ],
   "source": [
    "# File handling and exception handling :\n",
    "# If we are opening the file then we should close thast file also \n",
    "try : \n",
    "    file = open('example.txt' , 'r') \n",
    "    content = file.read() \n",
    "    a=b\n",
    "    print(content) \n",
    "except FileNotFoundError : \n",
    "    print(\"The file does not exists.\")\n",
    "except Exception as ex : \n",
    "    print(ex)\n",
    "finally : \n",
    "    if 'file' in locals() or not file.closed() :\n",
    "        file.close() \n",
    "        print(\"File close\")\n"
   ]
  },
  {
   "cell_type": "code",
   "execution_count": null,
   "metadata": {},
   "outputs": [],
   "source": []
  }
 ],
 "metadata": {
  "kernelspec": {
   "display_name": "Python 3",
   "language": "python",
   "name": "python3"
  },
  "language_info": {
   "codemirror_mode": {
    "name": "ipython",
    "version": 3
   },
   "file_extension": ".py",
   "mimetype": "text/x-python",
   "name": "python",
   "nbconvert_exporter": "python",
   "pygments_lexer": "ipython3",
   "version": "3.10.7"
  }
 },
 "nbformat": 4,
 "nbformat_minor": 2
}
