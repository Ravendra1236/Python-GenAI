{
 "cells": [
  {
   "cell_type": "code",
   "execution_count": 1,
   "metadata": {},
   "outputs": [
    {
     "name": "stdout",
     "output_type": "stream",
     "text": [
      "<class 'dict'>\n"
     ]
    }
   ],
   "source": [
    "empty_dict ={}\n",
    "print(type(empty_dict))"
   ]
  },
  {
   "cell_type": "code",
   "execution_count": 2,
   "metadata": {},
   "outputs": [
    {
     "name": "stdout",
     "output_type": "stream",
     "text": [
      "<class 'dict'>\n"
     ]
    }
   ],
   "source": [
    "empty_dict = dict()\n",
    "print(type(empty_dict))"
   ]
  },
  {
   "cell_type": "code",
   "execution_count": 3,
   "metadata": {},
   "outputs": [
    {
     "name": "stdout",
     "output_type": "stream",
     "text": [
      "<class 'dict'>\n"
     ]
    }
   ],
   "source": [
    "student = {\n",
    "    \"name\" : \"ravendra\",\n",
    "    \"class\" : 12,\n",
    "    \"grade\": \"S\"\n",
    "}\n",
    "print(type(student))"
   ]
  },
  {
   "cell_type": "code",
   "execution_count": 6,
   "metadata": {},
   "outputs": [
    {
     "name": "stdout",
     "output_type": "stream",
     "text": [
      "{'name': 'Sahil', 'class': 12, 'grade': 'S'}\n"
     ]
    }
   ],
   "source": [
    "#Error : Single key is always used \n",
    "student = {\n",
    "    \"name\" : \"ravendra\",\n",
    "    \"name\" : \"Sahil\",\n",
    "    \"class\" : 12,\n",
    "    \"grade\": \"S\"\n",
    "}\n",
    "print(student)"
   ]
  },
  {
   "cell_type": "code",
   "execution_count": 9,
   "metadata": {},
   "outputs": [
    {
     "name": "stdout",
     "output_type": "stream",
     "text": [
      "A\n",
      "ravendra\n",
      "None\n"
     ]
    }
   ],
   "source": [
    "## Accessing dictionary elements : \n",
    "student = {\n",
    "    \"name\" : \"ravendra\",\n",
    "    \"class\" : 12,\n",
    "    \"grade\": \"A\"\n",
    "}\n",
    "a = student['grade']\n",
    "print(a)\n",
    "\n",
    "## get() method : \n",
    "print(student.get(\"name\"))\n",
    "print(student.get(\"lastName\"))"
   ]
  },
  {
   "cell_type": "code",
   "execution_count": 11,
   "metadata": {},
   "outputs": [
    {
     "name": "stdout",
     "output_type": "stream",
     "text": [
      "{'name': 'ravendra', 'class': 12, 'grade': 'A'}\n"
     ]
    }
   ],
   "source": [
    "## Modifying Dictionary Elements :\n",
    "## Mutable : CRUD \n",
    "print(student)"
   ]
  },
  {
   "cell_type": "code",
   "execution_count": 14,
   "metadata": {},
   "outputs": [
    {
     "name": "stdout",
     "output_type": "stream",
     "text": [
      "{'name': 'ravendra', 'class': 12, 'grade': 'A', 'age': 33, 'address': 'Kota'}\n",
      "{'name': 'ravendra', 'class': 12, 'grade': 'A', 'age': 33, 'address': 'Kota'}\n",
      "{'name': 'ravendra', 'class': 12, 'grade': 'A', 'age': 33}\n"
     ]
    }
   ],
   "source": [
    "student[\"age\"] = 33 # Update\n",
    "print(student)\n",
    "student[\"address\"] = \"Kota\"  # Added new Key-Value\n",
    "print(student)\n",
    "\n",
    "del student[\"address\"]  # Deleted key\n",
    "print(student)"
   ]
  },
  {
   "cell_type": "code",
   "execution_count": 17,
   "metadata": {},
   "outputs": [
    {
     "name": "stdout",
     "output_type": "stream",
     "text": [
      "dict_keys(['name', 'class', 'grade', 'age'])\n",
      "dict_values(['ravendra', 12, 'A', 33])\n",
      "dict_items([('name', 'ravendra'), ('class', 12), ('grade', 'A'), ('age', 33)])\n"
     ]
    }
   ],
   "source": [
    "# Dictionary Methods :\n",
    "keys = student.keys()\n",
    "print(keys)\n",
    "\n",
    "values = student.values()\n",
    "print(values)\n",
    "\n",
    "items = student.items()  # List of tuples\n",
    "print(items)"
   ]
  },
  {
   "cell_type": "code",
   "execution_count": 18,
   "metadata": {},
   "outputs": [
    {
     "name": "stdout",
     "output_type": "stream",
     "text": [
      "{'name': 'Aman', 'class': 12, 'grade': 'A', 'age': 33}\n",
      "{'name': 'Aman', 'class': 12, 'grade': 'A', 'age': 33}\n"
     ]
    }
   ],
   "source": [
    "# Shallow Copy : Very Important \n",
    "\n",
    "student_copy = student \n",
    "student[\"name\"] = \"Aman\"\n",
    "print(student)\n",
    "print(student_copy)"
   ]
  },
  {
   "cell_type": "code",
   "execution_count": 19,
   "metadata": {},
   "outputs": [
    {
     "name": "stdout",
     "output_type": "stream",
     "text": [
      "{'name': 'ravendra', 'class': 12, 'grade': 'A', 'age': 33}\n",
      "{'name': 'Aman', 'class': 12, 'grade': 'A', 'age': 33}\n"
     ]
    }
   ],
   "source": [
    "# Solution : \n",
    "student_copy1 = student.copy() # Allocate different memory\n",
    "student[\"name\"] = \"ravendra\"\n",
    "print(student)\n",
    "print(student_copy1)"
   ]
  },
  {
   "cell_type": "code",
   "execution_count": 21,
   "metadata": {},
   "outputs": [
    {
     "name": "stdout",
     "output_type": "stream",
     "text": [
      "name\n",
      "class\n",
      "grade\n",
      "age\n",
      "ravendra\n",
      "12\n",
      "A\n",
      "33\n"
     ]
    }
   ],
   "source": [
    "# Iterating Over dictionary: \n",
    "# We can use loops to iterate over dictionary , keys , values or items\n",
    "\n",
    "# Iterating Over Keys :\n",
    "for keys in student.keys():\n",
    "    print(keys)\n",
    "\n"
   ]
  },
  {
   "cell_type": "code",
   "execution_count": 23,
   "metadata": {},
   "outputs": [
    {
     "name": "stdout",
     "output_type": "stream",
     "text": [
      "ravendra\n",
      "12\n",
      "A\n",
      "33\n"
     ]
    }
   ],
   "source": [
    "# Iterating Over Values :\n",
    "for values in student.values():\n",
    "    print(values)"
   ]
  },
  {
   "cell_type": "code",
   "execution_count": 24,
   "metadata": {},
   "outputs": [
    {
     "name": "stdout",
     "output_type": "stream",
     "text": [
      "name:ravendra\n",
      "class:12\n",
      "grade:A\n",
      "age:33\n"
     ]
    }
   ],
   "source": [
    "# Iterating Over Values :\n",
    "for key ,value in student.items():\n",
    "    print(f\"{key}:{value}\")"
   ]
  },
  {
   "cell_type": "code",
   "execution_count": 25,
   "metadata": {},
   "outputs": [
    {
     "name": "stdout",
     "output_type": "stream",
     "text": [
      "{'student': {'name': 'ravendra', 'age': 32}, 'student2': {'name': 'Peter', 'age': 22}}\n"
     ]
    }
   ],
   "source": [
    "## Nested Dictionary : \n",
    "students = {\n",
    "    \"student\" : {\n",
    "        \"name\" : \"ravendra\",\n",
    "        \"age\" : 32 \n",
    "    },\n",
    "    \"student2\" : {\n",
    "        \"name\" : \"Peter\",\n",
    "        \"age\" : 22 \n",
    "    },\n",
    "}\n",
    "\n",
    "print(students)"
   ]
  },
  {
   "cell_type": "code",
   "execution_count": 28,
   "metadata": {},
   "outputs": [
    {
     "name": "stdout",
     "output_type": "stream",
     "text": [
      "ravendra\n",
      "Peter\n"
     ]
    }
   ],
   "source": [
    "## Access Nested dictionary: \n",
    "print(students[\"student\"][\"name\"])\n",
    "print(students[\"student2\"][\"name\"])"
   ]
  },
  {
   "cell_type": "code",
   "execution_count": 30,
   "metadata": {},
   "outputs": [
    {
     "data": {
      "text/plain": [
       "dict_items([('student', {'name': 'ravendra', 'age': 32}), ('student2', {'name': 'Peter', 'age': 22})])"
      ]
     },
     "execution_count": 30,
     "metadata": {},
     "output_type": "execute_result"
    }
   ],
   "source": [
    "students.items()"
   ]
  },
  {
   "cell_type": "code",
   "execution_count": 33,
   "metadata": {},
   "outputs": [
    {
     "name": "stdout",
     "output_type": "stream",
     "text": [
      "student : {'name': 'ravendra', 'age': 32}\n",
      "name: ravendra\n",
      "age: 32\n",
      "student2 : {'name': 'Peter', 'age': 22}\n",
      "name: Peter\n",
      "age: 22\n"
     ]
    }
   ],
   "source": [
    "## Iterating over nested dictionary : \n",
    "for student_id , student_info in students.items():\n",
    "    print(f\"{student_id} : {student_info}\")\n",
    "    for key , value in student_info.items():\n",
    "        print(f\"{key}: {value}\")\n",
    "    "
   ]
  },
  {
   "cell_type": "code",
   "execution_count": 35,
   "metadata": {},
   "outputs": [
    {
     "name": "stdout",
     "output_type": "stream",
     "text": [
      "{0: 0, 1: 1, 2: 4, 3: 9, 4: 16}\n"
     ]
    }
   ],
   "source": [
    "## Dictionary Comprehension : \n",
    "squares = {x:x**2 for x in range(5)}\n",
    "print(squares)"
   ]
  },
  {
   "cell_type": "code",
   "execution_count": 36,
   "metadata": {},
   "outputs": [
    {
     "name": "stdout",
     "output_type": "stream",
     "text": [
      "{0: 0, 2: 4, 4: 16, 6: 36, 8: 64}\n"
     ]
    }
   ],
   "source": [
    "# Condition :\n",
    "even = {x:x**2 for x in range(10) if x%2==0}\n",
    "print(even)"
   ]
  },
  {
   "cell_type": "code",
   "execution_count": 38,
   "metadata": {},
   "outputs": [
    {
     "name": "stdout",
     "output_type": "stream",
     "text": [
      "{1: 4, 2: 3, 3: 2, 4: 4, 5: 2}\n"
     ]
    }
   ],
   "source": [
    "# Practical Examples : \n",
    "numbers = [1,1,1,1,2,2,2,3,3,4,4,4,4,5,5]\n",
    "freq = {}\n",
    "for number in  numbers :\n",
    "    if number in freq:\n",
    "        freq[number]+=1 \n",
    "    else :\n",
    "        freq[number] = 1\n",
    "print(freq)"
   ]
  },
  {
   "cell_type": "code",
   "execution_count": 39,
   "metadata": {},
   "outputs": [
    {
     "name": "stdout",
     "output_type": "stream",
     "text": [
      "{'a': 1, 'b': 2, 'c': 3, 'd': 4}\n"
     ]
    }
   ],
   "source": [
    "# Merge 2 Dictionary :\n",
    "\n",
    "dict1 = {\"a\" : 1 , \"b\" :2}\n",
    "dict2 = {\"c\":3 , \"d\" : 4}\n",
    "merged_dict = {**dict1 , **dict2}\n",
    "print(merged_dict)"
   ]
  },
  {
   "cell_type": "code",
   "execution_count": null,
   "metadata": {},
   "outputs": [],
   "source": []
  }
 ],
 "metadata": {
  "kernelspec": {
   "display_name": "Python 3",
   "language": "python",
   "name": "python3"
  },
  "language_info": {
   "codemirror_mode": {
    "name": "ipython",
    "version": 3
   },
   "file_extension": ".py",
   "mimetype": "text/x-python",
   "name": "python",
   "nbconvert_exporter": "python",
   "pygments_lexer": "ipython3",
   "version": "3.10.7"
  }
 },
 "nbformat": 4,
 "nbformat_minor": 2
}
