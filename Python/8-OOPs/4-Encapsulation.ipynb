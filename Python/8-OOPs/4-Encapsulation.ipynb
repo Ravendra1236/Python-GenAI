{
 "cells": [
  {
   "cell_type": "code",
   "execution_count": 3,
   "metadata": {},
   "outputs": [
    {
     "name": "stdout",
     "output_type": "stream",
     "text": [
      "ravendra\n"
     ]
    },
    {
     "data": {
      "text/plain": [
       "'ravendra'"
      ]
     },
     "execution_count": 3,
     "metadata": {},
     "output_type": "execute_result"
    }
   ],
   "source": [
    "# Encapsulation \n",
    "\n",
    "# Public Private Protected \n",
    "\n",
    "class Person:\n",
    "    def __init__(self , name , age):\n",
    "        self.name = name # public variable\n",
    "        self.age  = age # public variable\n",
    "    \n",
    "def get_name(person):\n",
    "    return person.name     \n",
    "        \n",
    "person = Person('ravendra' , 22)\n",
    "print(person.name)\n",
    "get_name(person)"
   ]
  },
  {
   "cell_type": "code",
   "execution_count": 7,
   "metadata": {},
   "outputs": [
    {
     "name": "stdout",
     "output_type": "stream",
     "text": [
      "male\n"
     ]
    }
   ],
   "source": [
    "class Person:\n",
    "    def __init__(self , name , age , gender):\n",
    "        self.__name = name # private variable\n",
    "        self.__age  = age # private variable\n",
    "        self.gender = gender # public\n",
    "def get_name(person):\n",
    "    return person.name     \n",
    "        \n",
    "person = Person('Sahil' , 22, \"male\")\n",
    "print(person.gender)\n",
    "# get_name(person)\n"
   ]
  },
  {
   "cell_type": "code",
   "execution_count": 12,
   "metadata": {},
   "outputs": [
    {
     "name": "stdout",
     "output_type": "stream",
     "text": [
      "22\n"
     ]
    }
   ],
   "source": [
    "class Person:\n",
    "    def __init__(self , name , age , gender):\n",
    "        self.__name = name # private variable\n",
    "        self._age  = age # protected variable : Can be access from derive class not outside the class\n",
    "        self.gender = gender # public\n",
    "class Employee(Person):\n",
    "    def __init__(self, name , age , gender):\n",
    "        super().__init__( name ,age ,gender)\n",
    "        \n",
    "        \n",
    "employee = Employee(\"ravendra\" , 22 , \"male\")\n",
    "print(employee._age)\n"
   ]
  },
  {
   "cell_type": "code",
   "execution_count": 17,
   "metadata": {},
   "outputs": [
    {
     "data": {
      "text/plain": [
       "22"
      ]
     },
     "execution_count": 17,
     "metadata": {},
     "output_type": "execute_result"
    }
   ],
   "source": [
    "## Encapsulation with getter and setter method \n",
    "class Person:\n",
    "    def __init__(self , name , age ):\n",
    "        self.__name = name\n",
    "        self.__age  = age \n",
    "    \n",
    "    # Getter \n",
    "    def get_name(self ):\n",
    "        return self.__name\n",
    "    def get_age(self):\n",
    "        return self.__age\n",
    "    # Setter \n",
    "    def set_name(self , name):\n",
    "        self.__name = name\n",
    "    def age(self , age):\n",
    "        self.__age = age\n",
    "        \n",
    "\n",
    "person = Person(\"ravendra\" , 22 )\n",
    "person.get_name()\n",
    "person.set_name(\"Ravendra\")\n",
    "person.get_age()"
   ]
  },
  {
   "cell_type": "code",
   "execution_count": 19,
   "metadata": {},
   "outputs": [
    {
     "name": "stdout",
     "output_type": "stream",
     "text": [
      "<__main__.Person object at 0x0000029A9A0A4BB0>\n"
     ]
    }
   ],
   "source": [
    "# Abstraction \n",
    "\n",
    "\n",
    "# Magic Methods\n",
    "# Basic Magic Methods : \n",
    "class Person:\n",
    "    def __init__(self,name,age):\n",
    "        self.name = name \n",
    "        self.age = age\n",
    "person = Person(\"Rv\" , 22)\n",
    "print(person)\n",
    "\n"
   ]
  },
  {
   "cell_type": "code",
   "execution_count": 18,
   "metadata": {},
   "outputs": [
    {
     "name": "stdout",
     "output_type": "stream",
     "text": [
      "Rv and 22\n"
     ]
    }
   ],
   "source": [
    "class Person:\n",
    "    def __init__(self,name,age):\n",
    "        self.name = name \n",
    "        self.age = age\n",
    "        \n",
    "    def __str__(self):\n",
    "        return f\"{self.name} and {self.age}\"\n",
    "person = Person(\"Rv\" , 22)\n",
    "print(person)"
   ]
  },
  {
   "cell_type": "code",
   "execution_count": null,
   "metadata": {},
   "outputs": [],
   "source": []
  }
 ],
 "metadata": {
  "kernelspec": {
   "display_name": "Python 3",
   "language": "python",
   "name": "python3"
  },
  "language_info": {
   "codemirror_mode": {
    "name": "ipython",
    "version": 3
   },
   "file_extension": ".py",
   "mimetype": "text/x-python",
   "name": "python",
   "nbconvert_exporter": "python",
   "pygments_lexer": "ipython3",
   "version": "3.10.7"
  }
 },
 "nbformat": 4,
 "nbformat_minor": 2
}
