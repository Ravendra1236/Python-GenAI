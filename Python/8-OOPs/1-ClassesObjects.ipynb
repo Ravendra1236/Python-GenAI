{
 "cells": [
  {
   "cell_type": "code",
   "execution_count": 1,
   "metadata": {},
   "outputs": [
    {
     "name": "stdout",
     "output_type": "stream",
     "text": [
      "<class '__main__.Car'>\n"
     ]
    }
   ],
   "source": [
    "class Car: \n",
    "    pass \n",
    "\n",
    "audi = Car()\n",
    "bmw = Car()\n",
    "\n",
    "print(type(audi))"
   ]
  },
  {
   "cell_type": "code",
   "execution_count": 3,
   "metadata": {},
   "outputs": [
    {
     "name": "stdout",
     "output_type": "stream",
     "text": [
      "<__main__.Car object at 0x000001D0942DAB90>\n",
      "<__main__.Car object at 0x000001D0942D9510>\n"
     ]
    }
   ],
   "source": [
    "print(audi)\n",
    "print(bmw)"
   ]
  },
  {
   "cell_type": "code",
   "execution_count": 4,
   "metadata": {},
   "outputs": [
    {
     "name": "stdout",
     "output_type": "stream",
     "text": [
      "4\n"
     ]
    }
   ],
   "source": [
    "audi.windows = 4 \n",
    "print(audi.windows)"
   ]
  },
  {
   "cell_type": "code",
   "execution_count": 7,
   "metadata": {},
   "outputs": [
    {
     "name": "stdout",
     "output_type": "stream",
     "text": [
      "Harry\n",
      "5\n",
      "Aman\n",
      "15\n"
     ]
    }
   ],
   "source": [
    "# Instance Variable and Methods \n",
    "class Dog:\n",
    "    #ctor : \n",
    "    def __init__(self,name,age):\n",
    "        self.name = name \n",
    "        self.age = age \n",
    "        \n",
    "\n",
    "# Object : \n",
    "dog1 = Dog(\"Harry\" , 5)\n",
    "print(dog1.name)\n",
    "print(dog1.age)\n",
    "\n",
    "dog2 = Dog(\"Aman\" , 15)\n",
    "print(dog2.name)\n",
    "print(dog2.age)"
   ]
  },
  {
   "cell_type": "code",
   "execution_count": 8,
   "metadata": {},
   "outputs": [
    {
     "name": "stdout",
     "output_type": "stream",
     "text": [
      "lucy is barking\n"
     ]
    }
   ],
   "source": [
    "# Define class with instance methods:\n",
    "class Dog:\n",
    "    def __init__(self , name , age):\n",
    "        self.name = name \n",
    "        self.age = age\n",
    "    \n",
    "    def bark(self):\n",
    "        print(f\"{self.name} is barking\")\n",
    "        \n",
    "\n",
    "dog1 = Dog(\"lucy\" , 4)\n",
    "dog1.bark()"
   ]
  },
  {
   "cell_type": "code",
   "execution_count": 13,
   "metadata": {},
   "outputs": [
    {
     "name": "stdout",
     "output_type": "stream",
     "text": [
      "ravendra\n",
      "5000\n",
      "5000\n",
      "4000 is deposited. New balance is 9000\n",
      "2000 is withdrawn . New balance is7000\n"
     ]
    }
   ],
   "source": [
    "# Modelling a bank Account : \n",
    "\n",
    "## Define a class for bank account : \n",
    "\n",
    "class BankAccount:\n",
    "    def __init__(self , owner , balance=0 ):\n",
    "        self.owner = owner \n",
    "        self.balance = balance \n",
    "        \n",
    "    def deposit(self , amount):\n",
    "        self.balance+=amount\n",
    "        print(f\"{amount} is deposited. New balance is {self.balance}\" )\n",
    "    def withdraw(self , amount):\n",
    "        if(amount > self.balance):\n",
    "            print(\"Insufficient funds\")\n",
    "        else:\n",
    "            self.balance-=amount \n",
    "            print(f\"{amount} is withdrawn . New balance is {self.balance}\")\n",
    "    def get_balance(self):\n",
    "        print(self.balance)\n",
    "\n",
    "acc1 = BankAccount(\"ravendra\" , 5000)\n",
    "print(acc1.owner)\n",
    "print(acc1.balance)\n",
    "\n",
    "acc1.get_balance()\n",
    "acc1.deposit(4000)\n",
    "acc1.withdraw(2000)"
   ]
  },
  {
   "cell_type": "code",
   "execution_count": null,
   "metadata": {},
   "outputs": [],
   "source": []
  }
 ],
 "metadata": {
  "kernelspec": {
   "display_name": "Python 3",
   "language": "python",
   "name": "python3"
  },
  "language_info": {
   "codemirror_mode": {
    "name": "ipython",
    "version": 3
   },
   "file_extension": ".py",
   "mimetype": "text/x-python",
   "name": "python",
   "nbconvert_exporter": "python",
   "pygments_lexer": "ipython3",
   "version": "3.10.7"
  }
 },
 "nbformat": 4,
 "nbformat_minor": 2
}
