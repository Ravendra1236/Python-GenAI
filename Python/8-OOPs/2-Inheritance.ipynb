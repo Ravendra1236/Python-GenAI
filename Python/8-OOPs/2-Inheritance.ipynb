{
 "cells": [
  {
   "cell_type": "code",
   "execution_count": 2,
   "metadata": {},
   "outputs": [],
   "source": [
    "# Inheritance\n",
    "\n",
    "class Car: \n",
    "    def __init__(self , windows , doors , enginetype):\n",
    "        self.windows = windows \n",
    "        self.doors = doors \n",
    "        self.enginetype = enginetype\n",
    "        \n",
    "    def drive(self):\n",
    "        print(f\"The person will drive the {self.enginetype} car\")\n",
    "    \n",
    "    "
   ]
  },
  {
   "cell_type": "code",
   "execution_count": 3,
   "metadata": {},
   "outputs": [
    {
     "name": "stdout",
     "output_type": "stream",
     "text": [
      "The person will drive the petrol car\n"
     ]
    }
   ],
   "source": [
    "car1 = Car(4,5,\"petrol\")\n",
    "car1.drive()\n"
   ]
  },
  {
   "cell_type": "code",
   "execution_count": 7,
   "metadata": {},
   "outputs": [],
   "source": [
    "# Inherit \n",
    "class Tesla(Car) :\n",
    "    def __init__(self , windows , doors , enginetype , isSelfDriving):\n",
    "        super().__init__(windows , doors , enginetype)\n",
    "        self.isSelfDriving = isSelfDriving\n",
    "        \n",
    "    def selfDriving(self):\n",
    "        print(f\"Tesla supports self driving : {self.isSelfDriving}\")\n",
    "    \n"
   ]
  },
  {
   "cell_type": "code",
   "execution_count": 8,
   "metadata": {},
   "outputs": [
    {
     "name": "stdout",
     "output_type": "stream",
     "text": [
      "Tesla supports self driving : True\n"
     ]
    }
   ],
   "source": [
    "tesla1 = Tesla(4,5,\"electric\" , True)\n",
    "tesla1.selfDriving()"
   ]
  },
  {
   "cell_type": "code",
   "execution_count": 9,
   "metadata": {},
   "outputs": [
    {
     "name": "stdout",
     "output_type": "stream",
     "text": [
      "The person will drive the electric car\n"
     ]
    }
   ],
   "source": [
    "tesla1.drive()"
   ]
  },
  {
   "cell_type": "code",
   "execution_count": 13,
   "metadata": {},
   "outputs": [
    {
     "name": "stdout",
     "output_type": "stream",
     "text": [
      "buddy is barking\n",
      "ravendra\n"
     ]
    }
   ],
   "source": [
    "# Multiple Inheritance : \n",
    "#More than 1 base class\n",
    "\n",
    "# Base class 1 : \n",
    "class Animal : \n",
    "    def __init__(self,name):\n",
    "        self.name = name \n",
    "    def speak(self):\n",
    "        print(\"Subclass must implement this method\")\n",
    "\n",
    "# Base class 2 : \n",
    "class Pet : \n",
    "    def __init__(self,owner):\n",
    "        self.owner = owner \n",
    "\n",
    "# Derived Class : \n",
    "class Dog(Animal , Pet):\n",
    "    def __init__(self,name,owner):\n",
    "        Animal.__init__(self,name)\n",
    "        Pet.__init__(self,owner)   \n",
    "    def speak(self):\n",
    "        print(f\"{self.name} is barking\")\n",
    "\n",
    "dog1 = Dog(\"buddy\" , \"ravendra\")\n",
    "dog1.speak()\n",
    "\n",
    "print(dog1.owner)\n",
    "    "
   ]
  },
  {
   "cell_type": "code",
   "execution_count": null,
   "metadata": {},
   "outputs": [],
   "source": []
  }
 ],
 "metadata": {
  "kernelspec": {
   "display_name": "Python 3",
   "language": "python",
   "name": "python3"
  },
  "language_info": {
   "codemirror_mode": {
    "name": "ipython",
    "version": 3
   },
   "file_extension": ".py",
   "mimetype": "text/x-python",
   "name": "python",
   "nbconvert_exporter": "python",
   "pygments_lexer": "ipython3",
   "version": "3.10.7"
  }
 },
 "nbformat": 4,
 "nbformat_minor": 2
}
