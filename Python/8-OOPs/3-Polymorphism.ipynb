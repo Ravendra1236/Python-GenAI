{
 "cells": [
  {
   "cell_type": "code",
   "execution_count": 2,
   "metadata": {},
   "outputs": [
    {
     "name": "stdout",
     "output_type": "stream",
     "text": [
      "Bhow Bhow!!!\n"
     ]
    }
   ],
   "source": [
    "# Polymorphism can be achieved by method overriding and in\n",
    "\n",
    "# Base class\n",
    "class Animal:\n",
    "    def speak(self):\n",
    "        print(\"Animal is making sound.\")\n",
    "\n",
    "# Derived class 1 : \n",
    "class Dog(Animal):\n",
    "    def speak(self):\n",
    "        print(\"Bhow Bhow!!!\")\n",
    "\n",
    "# Derived Class 2 :\n",
    "class Cat(Animal):\n",
    "    def speak(self):\n",
    "        print(\"Meow Meow!!\")\n",
    "\n",
    "dog = Dog()\n",
    "dog.speak()\n"
   ]
  },
  {
   "cell_type": "code",
   "execution_count": 3,
   "metadata": {},
   "outputs": [
    {
     "data": {
      "text/plain": [
       "78.5"
      ]
     },
     "execution_count": 3,
     "metadata": {},
     "output_type": "execute_result"
    }
   ],
   "source": [
    "class Shape : \n",
    "    def area():\n",
    "        print(\"Shape is having area.\")\n",
    "\n",
    "class Reactangle(Shape):\n",
    "    def __init__(self , height , width):\n",
    "        self.height = height \n",
    "        self.width = width\n",
    "    def area(self):\n",
    "        return self.height*self.width\n",
    "    \n",
    "class Circle(Shape):\n",
    "    def __init__(self , radius):\n",
    "        self.radius = radius\n",
    "    def area(self):\n",
    "        return 3.14*self.radius*self.radius\n",
    "    \n",
    "circle = Circle(5)\n",
    "circle.area()"
   ]
  },
  {
   "cell_type": "code",
   "execution_count": 4,
   "metadata": {},
   "outputs": [
    {
     "data": {
      "text/plain": [
       "'Car is started....'"
      ]
     },
     "execution_count": 4,
     "metadata": {},
     "output_type": "execute_result"
    }
   ],
   "source": [
    "# Abstract Class : Empty class \n",
    "\n",
    "from abc import ABC,abstractmethod \n",
    "\n",
    "# Define an abstract class : \n",
    "class Vehicle(ABC):\n",
    "    @abstractmethod \n",
    "    def start_engine(self):\n",
    "        pass\n",
    "\n",
    "# Derived class 1 : \n",
    "class Car(Vehicle):\n",
    "    def start_engine(self):\n",
    "        return \"Car is started....\"\n",
    "# Derived Class 2 : \n",
    "class Bike(Vehicle):\n",
    "    def start_engine(self):\n",
    "        return \"Bike is started....\"\n",
    "    \n",
    "\n",
    "car = Car()\n",
    "car.start_engine()"
   ]
  },
  {
   "cell_type": "code",
   "execution_count": null,
   "metadata": {},
   "outputs": [],
   "source": []
  }
 ],
 "metadata": {
  "kernelspec": {
   "display_name": "Python 3",
   "language": "python",
   "name": "python3"
  },
  "language_info": {
   "codemirror_mode": {
    "name": "ipython",
    "version": 3
   },
   "file_extension": ".py",
   "mimetype": "text/x-python",
   "name": "python",
   "nbconvert_exporter": "python",
   "pygments_lexer": "ipython3",
   "version": "3.10.7"
  }
 },
 "nbformat": 4,
 "nbformat_minor": 2
}
