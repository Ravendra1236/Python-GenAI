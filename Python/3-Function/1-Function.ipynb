{
 "cells": [
  {
   "cell_type": "code",
   "execution_count": 3,
   "metadata": {},
   "outputs": [],
   "source": [
    "# Syntax : \n",
    "def function_name(parameters):\n",
    "    \"\"\"Docstring\"\"\"\n",
    "function_name()"
   ]
  },
  {
   "cell_type": "code",
   "execution_count": 5,
   "metadata": {},
   "outputs": [
    {
     "name": "stdout",
     "output_type": "stream",
     "text": [
      "Odd Number\n"
     ]
    }
   ],
   "source": [
    "# Definition : \n",
    "def evenNumber(num):\n",
    "    \"\"\"This function finds odd and even\"\"\"\n",
    "    if(num%2 == 0):\n",
    "        print(\"Even Number\")\n",
    "    else:\n",
    "        print(\"Odd Number\")\n",
    "\n",
    "# Function Call :\n",
    "evenNumber(11)"
   ]
  },
  {
   "cell_type": "code",
   "execution_count": 6,
   "metadata": {},
   "outputs": [
    {
     "name": "stdout",
     "output_type": "stream",
     "text": [
      "19\n"
     ]
    }
   ],
   "source": [
    "# Function with multiple Paramters : \n",
    "def add(a,b):\n",
    "    return a +b \n",
    "\n",
    "sum = add(9,10)\n",
    "print(sum)"
   ]
  },
  {
   "cell_type": "code",
   "execution_count": 9,
   "metadata": {},
   "outputs": [
    {
     "name": "stdout",
     "output_type": "stream",
     "text": [
      "Good Morning! Ravendra\n",
      "Good Morning! Gentleman\n"
     ]
    }
   ],
   "source": [
    "# Default Params : \n",
    "def greet(name=\"Gentleman\"):\n",
    "    print(f\"Good Morning! {name}\")\n",
    "    \n",
    "greet(\"Ravendra\")\n",
    "greet()"
   ]
  },
  {
   "cell_type": "code",
   "execution_count": 11,
   "metadata": {},
   "outputs": [
    {
     "name": "stdout",
     "output_type": "stream",
     "text": [
      "1\n",
      "2\n",
      "3\n",
      "4\n",
      "5\n",
      "6\n",
      "7\n",
      "8\n",
      "Ravendra\n"
     ]
    }
   ],
   "source": [
    "# Variable Length Arguments \n",
    "# Positional and Keywords Arguments : \n",
    "\n",
    "# def print_numners(num1 , num2 , num3 ......)\n",
    "def print_numbers(*args):\n",
    "    for numbers in args :\n",
    "        print(numbers)\n",
    "\n",
    "print_numbers(1,2,3,4,5,6,7,8,\"Ravendra\")"
   ]
  },
  {
   "cell_type": "code",
   "execution_count": 12,
   "metadata": {},
   "outputs": [
    {
     "name": "stdout",
     "output_type": "stream",
     "text": [
      "name : ravendra\n",
      "age : 21\n",
      "country : India\n"
     ]
    }
   ],
   "source": [
    "# Keywrods Argument :\n",
    "\n",
    "def print_detail(**kwargs):\n",
    "    \n",
    "    for key,value in kwargs.items():\n",
    "        print(f\"{key} : {value}\")\n",
    "        \n",
    "print_detail(name=\"ravendra\" , age=21 , country= \"India\")"
   ]
  },
  {
   "cell_type": "code",
   "execution_count": 15,
   "metadata": {},
   "outputs": [
    {
     "name": "stdout",
     "output_type": "stream",
     "text": [
      "1\n",
      "2\n",
      "3\n",
      "4\n",
      "Sahil\n",
      "name : ravendra\n",
      "age : 21\n",
      "country : India\n"
     ]
    }
   ],
   "source": [
    "def print_detail(*args , **kwargs):\n",
    "    for val in args :\n",
    "        print(val)\n",
    "    for key,value in kwargs.items():\n",
    "        print(f\"{key} : {value}\")\n",
    "        \n",
    "print_detail(1,2,3,4,\"Sahil\",name=\"ravendra\" , age=21 , country= \"India\")"
   ]
  },
  {
   "cell_type": "code",
   "execution_count": 16,
   "metadata": {},
   "outputs": [
    {
     "data": {
      "text/plain": [
       "(6, 2)"
      ]
     },
     "execution_count": 16,
     "metadata": {},
     "output_type": "execute_result"
    }
   ],
   "source": [
    "#Return statement : \n",
    "def multiply(a,b):\n",
    "    return a*b , a \n",
    "multiply(2,3)"
   ]
  }
 ],
 "metadata": {
  "kernelspec": {
   "display_name": "Python 3",
   "language": "python",
   "name": "python3"
  },
  "language_info": {
   "codemirror_mode": {
    "name": "ipython",
    "version": 3
   },
   "file_extension": ".py",
   "mimetype": "text/x-python",
   "name": "python",
   "nbconvert_exporter": "python",
   "pygments_lexer": "ipython3",
   "version": "3.10.7"
  }
 },
 "nbformat": 4,
 "nbformat_minor": 2
}
