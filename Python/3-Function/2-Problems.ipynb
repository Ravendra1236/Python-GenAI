{
 "cells": [
  {
   "cell_type": "code",
   "execution_count": 2,
   "metadata": {},
   "outputs": [
    {
     "data": {
      "text/plain": [
       "29.444444444444443"
      ]
     },
     "execution_count": 2,
     "metadata": {},
     "output_type": "execute_result"
    }
   ],
   "source": [
    "# Temperature Conversion : \n",
    "\n",
    "def convert_temp(temp, unit):\n",
    "    if unit=='C':\n",
    "        return temp * 9/5 + 32\n",
    "    elif unit == 'F': \n",
    "        return (temp-32)*5/9\n",
    "    else : \n",
    "        return None\n",
    "    \n",
    "convert_temp(85, 'F')"
   ]
  },
  {
   "cell_type": "code",
   "execution_count": 5,
   "metadata": {},
   "outputs": [
    {
     "name": "stdout",
     "output_type": "stream",
     "text": [
      "True\n"
     ]
    }
   ],
   "source": [
    "# Psssword strength checker\n",
    "\n",
    "def is_strong_pass(password):\n",
    "    if len(password) < 8 :\n",
    "        return False  \n",
    "    if not any(char.isdigit() for char in password):\n",
    "        return False\n",
    "    if not any(char.islower() for char in password):\n",
    "        return False  \n",
    "    if not any(char.isupper() for char in password):\n",
    "        return False \n",
    "    if not any(char in '!@#$%^&*()_+' for char in password):\n",
    "        return False \n",
    "    return True  \n",
    "\n",
    "print(is_strong_pass(\"1Sd@dsdds\"))"
   ]
  },
  {
   "cell_type": "code",
   "execution_count": 11,
   "metadata": {},
   "outputs": [
    {
     "data": {
      "text/plain": [
       "6.3999999999999995"
      ]
     },
     "execution_count": 11,
     "metadata": {},
     "output_type": "execute_result"
    }
   ],
   "source": [
    "# Calculate the totla cost of items in a shopping cart : \n",
    "\n",
    "def calculate(cart):\n",
    "    total_cost = 0  \n",
    "    for item in cart :\n",
    "        total_cost += item['price']*item['quantity']\n",
    "    return total_cost\n",
    "\n",
    "cart = [\n",
    "    {\n",
    "        'name' : \"Apple\",\n",
    "        'price' : 0.5 ,\n",
    "        'quantity' : 5 \n",
    "    },\n",
    "    {\n",
    "        'name' : \"Banana\",\n",
    "        'price' : 0.3 ,\n",
    "        'quantity' : 6\n",
    "    },\n",
    "    {\n",
    "        'name' : \"Orange\",\n",
    "        'price' : 0.7 ,\n",
    "        'quantity' : 3 \n",
    "    },\n",
    "]\n",
    "calculate(cart)"
   ]
  },
  {
   "cell_type": "code",
   "execution_count": 19,
   "metadata": {},
   "outputs": [
    {
     "name": "stdout",
     "output_type": "stream",
     "text": [
      "True\n"
     ]
    }
   ],
   "source": [
    "# Palindrome : \n",
    "\n",
    "# def is_plaindrome(word):\n",
    "#     i = 0 \n",
    "#     j = len(word) -1 \n",
    "#     while(i<j) : \n",
    "#         if word[i] != word[j]:\n",
    "#             return False  \n",
    "#         else:\n",
    "#             i = i +1 \n",
    "#             j = j -1 \n",
    "#     return True \n",
    "\n",
    "# is_plaindrome(\"AppaA\")    \n",
    "\n",
    "def is_plaindrome(s):\n",
    "    s = s.lower().replace(\" \" , \"\")\n",
    "    return s==s[::-1]\n",
    "\n",
    "print(is_plaindrome(\"a mam a\"))"
   ]
  },
  {
   "cell_type": "code",
   "execution_count": 21,
   "metadata": {},
   "outputs": [
    {
     "data": {
      "text/plain": [
       "24"
      ]
     },
     "execution_count": 21,
     "metadata": {},
     "output_type": "execute_result"
    }
   ],
   "source": [
    "# Factorial Number : \n",
    "\n",
    "def factorial(num):\n",
    "    if num == 0 : \n",
    "        return  0 \n",
    "    if num == 1 :\n",
    "        return 1 \n",
    "    return num*factorial(num-1)\n",
    "\n",
    "factorial(4)"
   ]
  },
  {
   "cell_type": "code",
   "execution_count": null,
   "metadata": {},
   "outputs": [],
   "source": []
  }
 ],
 "metadata": {
  "kernelspec": {
   "display_name": "Python 3",
   "language": "python",
   "name": "python3"
  },
  "language_info": {
   "codemirror_mode": {
    "name": "ipython",
    "version": 3
   },
   "file_extension": ".py",
   "mimetype": "text/x-python",
   "name": "python",
   "nbconvert_exporter": "python",
   "pygments_lexer": "ipython3",
   "version": "3.10.7"
  }
 },
 "nbformat": 4,
 "nbformat_minor": 2
}
