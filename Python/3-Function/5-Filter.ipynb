{
 "cells": [
  {
   "cell_type": "code",
   "execution_count": 1,
   "metadata": {},
   "outputs": [
    {
     "data": {
      "text/plain": [
       "[2, 4, 6, 8]"
      ]
     },
     "execution_count": 1,
     "metadata": {},
     "output_type": "execute_result"
    }
   ],
   "source": [
    "# Filter : \n",
    "\n",
    "def even(x):\n",
    "    if x%2 == 0 :\n",
    "        return True \n",
    "    return False \n",
    "\n",
    "nums = [1,2,3,4,5,6,7,8]\n",
    "\n",
    "list(filter(even , nums))"
   ]
  },
  {
   "cell_type": "code",
   "execution_count": 2,
   "metadata": {},
   "outputs": [
    {
     "name": "stdout",
     "output_type": "stream",
     "text": [
      "[6, 7, 8]\n"
     ]
    }
   ],
   "source": [
    "numbers = [1,2,3,4,5,6,7,8]\n",
    "\n",
    "greater_than_5 = (list(filter(lambda x: x>5 , numbers)))\n",
    "print(greater_than_5)"
   ]
  },
  {
   "cell_type": "code",
   "execution_count": 4,
   "metadata": {},
   "outputs": [
    {
     "name": "stdout",
     "output_type": "stream",
     "text": [
      "[6, 8]\n"
     ]
    }
   ],
   "source": [
    "## Filter with lambda and multiple conditons :\n",
    "numbers = [1,2,3,4,5,6,7,8]\n",
    "\n",
    "even_and_greater_than_5 = list(filter(lambda x : x>5 and x%2==0 , numbers))\n",
    "\n",
    "print(even_and_greater_than_5)"
   ]
  },
  {
   "cell_type": "code",
   "execution_count": 13,
   "metadata": {},
   "outputs": [
    {
     "name": "stdout",
     "output_type": "stream",
     "text": [
      "['jack']\n"
     ]
    }
   ],
   "source": [
    "## Filter : If age is greater than 25 in dictionary : \n",
    "\n",
    "def is_above_30(person):\n",
    "    if(person[\"age\"] > 30):\n",
    "        return person[\"name\"]\n",
    "\n",
    "people=[\n",
    "    {'name': 'ravendra' , 'age':21},\n",
    "    {'name': 'jack' , 'age':33},\n",
    "    {'name': 'Aman' , 'age':22}\n",
    "]\n",
    "\n",
    "#list(filter(get_name , people))\n",
    "names = list(map(lambda person: person[\"name\"], filter(is_above_30, people)))\n",
    "print(names)\n"
   ]
  },
  {
   "cell_type": "code",
   "execution_count": null,
   "metadata": {},
   "outputs": [],
   "source": []
  }
 ],
 "metadata": {
  "kernelspec": {
   "display_name": "Python 3",
   "language": "python",
   "name": "python3"
  },
  "language_info": {
   "codemirror_mode": {
    "name": "ipython",
    "version": 3
   },
   "file_extension": ".py",
   "mimetype": "text/x-python",
   "name": "python",
   "nbconvert_exporter": "python",
   "pygments_lexer": "ipython3",
   "version": "3.10.7"
  }
 },
 "nbformat": 4,
 "nbformat_minor": 2
}
