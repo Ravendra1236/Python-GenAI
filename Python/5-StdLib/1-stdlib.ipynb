{
 "cells": [
  {
   "cell_type": "code",
   "execution_count": null,
   "metadata": {},
   "outputs": [
    {
     "data": {
      "text/plain": [
       "7\n",
       "Cherry\n"
      ]
     },
     "metadata": {},
     "output_type": "display_data"
    }
   ],
   "source": [
    "#random \n",
    "import random \n",
    "print(random.randint(1,10))\n",
    "print(random.choice([\"Apple\" , \"Cherry\" , \"Guava\"]))"
   ]
  },
  {
   "cell_type": "code",
   "execution_count": null,
   "metadata": {},
   "outputs": [
    {
     "data": {
      "text/plain": [
       "c:\\Users\\91952\\Desktop\\Python\n"
      ]
     },
     "metadata": {},
     "output_type": "display_data"
    }
   ],
   "source": [
    "## File and Directory Access : \n",
    "import os\n",
    "print(os.getcwd())"
   ]
  },
  {
   "cell_type": "code",
   "execution_count": null,
   "metadata": {},
   "outputs": [],
   "source": [
    "os.mkdir(\"test_dir\")"
   ]
  },
  {
   "cell_type": "code",
   "execution_count": null,
   "metadata": {},
   "outputs": [
    {
     "data": {
      "text/plain": [
       "Traceback (most recent call last):\n",
       "  File \"c:\\Users\\91952\\.vscode\\extensions\\ms-python.python-2024.22.1-win32-x64\\python_files\\python_server.py\", line 133, in exec_user_input\n",
       "    retval = callable_(user_input, user_globals)\n",
       "  File \"<string>\", line 3, in <module>\n",
       "  File \"C:\\Users\\91952\\AppData\\Local\\Programs\\Python\\Python310\\lib\\shutil.py\", line 254, in copyfile\n",
       "    with open(src, 'rb') as fsrc:\n",
       "FileNotFoundError: [Errno 2] No such file or directory: 'source.txt'\n",
       "\n"
      ]
     },
     "metadata": {},
     "output_type": "display_data"
    }
   ],
   "source": [
    "## High level operations on files and collection of files : \n",
    "import shutil \n",
    "shutil.copyfile('source.txt' , 'destination.txt')"
   ]
  },
  {
   "cell_type": "code",
   "execution_count": null,
   "metadata": {},
   "outputs": [
    {
     "data": {
      "text/plain": [
       "<class 'str'>\n",
       "{\"name\": \"Ravendra\", \"age\": 21}\n",
       "{'name': 'Ravendra', 'age': 21}\n",
       "<class 'dict'>\n"
      ]
     },
     "metadata": {},
     "output_type": "display_data"
    }
   ],
   "source": [
    "## Data Serialization : \n",
    "\n",
    "import json \n",
    "data = {\n",
    "    'name' : \"Ravendra\",\n",
    "    'age' :21\n",
    "}\n",
    "json_str = json.dumps(data)\n",
    "print(type(json_str))\n",
    "print(json_str)\n",
    "\n",
    "parsed_data = json.loads(json_str)\n",
    "print(parsed_data)\n",
    "print(type(parsed_data))"
   ]
  },
  {
   "cell_type": "code",
   "execution_count": null,
   "metadata": {},
   "outputs": [
    {
     "data": {
      "text/plain": [
       "['name', 'age']\n",
       "['Ravendra', '32']\n"
      ]
     },
     "metadata": {},
     "output_type": "display_data"
    }
   ],
   "source": [
    "## csv : \n",
    "import csv \n",
    "with open('example.csv' , mode='w' , newline='') as file:\n",
    "    writer=csv.writer(file)\n",
    "    writer.writerow(['name' , 'age'])\n",
    "    writer.writerow(['Ravendra' , 32])\n",
    "    \n",
    "\n",
    "with open('example.csv' , mode='r') as file:\n",
    "    reader=csv.reader(file)\n",
    "    for row in reader:\n",
    "        print(row)"
   ]
  },
  {
   "cell_type": "code",
   "execution_count": null,
   "metadata": {},
   "outputs": [
    {
     "data": {
      "text/plain": [
       "2025-01-05 02:12:01.779145\n",
       "2025-01-03 02:12:01.779145\n"
      ]
     },
     "metadata": {},
     "output_type": "display_data"
    }
   ],
   "source": [
    "# datetime\n",
    "\n",
    "from datetime import datetime , timedelta\n",
    "now=datetime.now()\n",
    "print(now)\n",
    "\n",
    "yesterday= now-timedelta(days=2)\n",
    "print(yesterday)"
   ]
  },
  {
   "cell_type": "code",
   "execution_count": null,
   "metadata": {},
   "outputs": [
    {
     "data": {
      "text/plain": [
       "1736023376.1065528\n",
       "1736023378.1102371\n"
      ]
     },
     "metadata": {},
     "output_type": "display_data"
    }
   ],
   "source": [
    "## time : \n",
    "import time \n",
    "print(time.time())\n",
    "time.sleep(2)\n",
    "print(time.time())"
   ]
  },
  {
   "cell_type": "code",
   "execution_count": null,
   "metadata": {},
   "outputs": [
    {
     "data": {
      "text/plain": [
       "<re.Match object; span=(10, 13), match='123'>\n",
       "123\n"
      ]
     },
     "metadata": {},
     "output_type": "display_data"
    }
   ],
   "source": [
    "## Regular expression \n",
    "import re \n",
    "pattern = r'\\d+'\n",
    "text = \"there are 123 apples.\"\n",
    "match = re.search(pattern , text)\n",
    "print(match )\n",
    "print(match.group() )\n"
   ]
  },
  {
   "cell_type": "code",
   "execution_count": null,
   "metadata": {},
   "outputs": [],
   "source": []
  }
 ],
 "metadata": {
  "language_info": {
   "name": "python"
  }
 },
 "nbformat": 4,
 "nbformat_minor": 2
}
